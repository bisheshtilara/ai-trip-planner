{
 "cells": [
  {
   "cell_type": "code",
   "execution_count": null,
   "metadata": {},
   "outputs": [],
   "source": [
    "import pandas as pd\n",
    "import os\n",
    "\n",
    "# Load the data\n",
    "data = pd.read_csv('trains_data/routes_all_trains.txt')\n",
    "\n",
    "# Drop columns with all NaN values\n",
    "data.dropna(axis=1, how='all', inplace=True)\n",
    "\n",
    "# Clean 'route_long_name' column\n",
    "data['route_long_name'] = data['route_long_name'].str.strip()  # Remove leading and trailing spaces\n",
    "data['route_long_name'] = data['route_long_name'].str.replace(' - ', '|')  # Replace hyphen used as delimiter with pipe\n",
    "\n",
    "# Create directory if it doesn't exist\n",
    "if not os.path.exists('cleaned_data_temp'):\n",
    "    os.makedirs('cleaned_data_temp')\n",
    "\n",
    "# Save cleaned data\n",
    "data.to_csv('cleaned_data/routes_cleaned_temp.csv', index=False)"
   ]
  }
 ],
 "metadata": {
  "language_info": {
   "name": "python"
  }
 },
 "nbformat": 4,
 "nbformat_minor": 2
}
