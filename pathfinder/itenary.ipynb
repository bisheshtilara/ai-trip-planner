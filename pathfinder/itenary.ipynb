{
 "cells": [
  {
   "cell_type": "code",
   "execution_count": null,
   "metadata": {},
   "outputs": [],
   "source": [
    "import pandas as pd\n",
    "\n",
    "\n",
    "def make_itenary_csv(routes, route_ids, trips, stop_times, stops):\n",
    "\n",
    "    filtered_routes = routes[routes['route_id'].isin(route_ids)]\n",
    "\n",
    "    # Join the filtered routes with the trips DataFrame\n",
    "    route_trips = pd.merge(filtered_routes, trips, on='route_id')\n",
    "\n",
    "    # Join route_trips with stop_times to get the times for each stop on each trip\n",
    "    itinerary = pd.merge(route_trips, stop_times, on='trip_id')\n",
    "\n",
    "    # Join itinerary with stops to get the details of each stop\n",
    "    itinerary = pd.merge(itinerary, stops, on='stop_id')\n",
    "\n",
    "    itinerary = itinerary.drop(['agency_id', 'route_short_name', 'route_type', 'service_id', 'direction_id', 'block_id', 'shape_id', 'stop_headsign', 'pickup_type', 'drop_off_type',\n",
    "                                'shape_dist_traveled', 'stop_desc', 'stop_lat', 'stop_lon', 'zone_id', 'stop_url', 'location_type', 'parent_station', 'trip_headsign', 'stop_sequence'], axis=1)\n",
    "\n",
    "    itinerary.to_csv('itinerary.csv', index=False)"
   ]
  }
 ],
 "metadata": {
  "language_info": {
   "name": "python"
  }
 },
 "nbformat": 4,
 "nbformat_minor": 2
}
