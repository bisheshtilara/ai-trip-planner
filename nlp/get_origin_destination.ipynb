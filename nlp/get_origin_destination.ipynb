{
 "cells": [
  {
   "cell_type": "code",
   "execution_count": null,
   "metadata": {},
   "outputs": [],
   "source": [
    "import spacy\n",
    "\n",
    "version = 1\n",
    "with open(\"version.txt\", \"r\") as f:\n",
    "    version = int(f.read())\n",
    "    f.close()\n",
    "\n",
    "# Load the trained model\n",
    "nlp = spacy.load(f\"./trained_model-v{version}\")\n",
    "\n",
    "def get_origin_destination(doc):\n",
    "    places = [token.text for token in doc if token.dep_ == 'PLACE']\n",
    "    revert = any(token.dep_ == 'REVERT' for token in doc)\n",
    "    if revert:\n",
    "        # Swap origin and destination\n",
    "        places = places[::-1]\n",
    "    return {'origin': places[0], 'destination': places[1]} if len(places) >= 2 else None\n",
    "\n"
   ]
  },
  {
   "cell_type": "code",
   "execution_count": null,
   "metadata": {},
   "outputs": [],
   "source": [
    "text = \"Je veux aller à Paris depuis Lyon\"\n",
    "doc = nlp(text)\n",
    "\n",
    "# Get origin and destination\n",
    "places = get_origin_destination(doc)\n",
    "\n",
    "# Check if places is not None\n",
    "if places:\n",
    "    print(f\"Origin: {places['origin']}, Destination: {places['destination']}\")\n",
    "else:\n",
    "    print(\"Not enough places found in the text.\")\n"
   ]
  }
 ],
 "metadata": {
  "kernelspec": {
   "display_name": "nlp",
   "language": "python",
   "name": "python3"
  },
  "language_info": {
   "codemirror_mode": {
    "name": "ipython",
    "version": 3
   },
   "file_extension": ".py",
   "mimetype": "text/x-python",
   "name": "python",
   "nbconvert_exporter": "python",
   "pygments_lexer": "ipython3",
   "version": "3.11.6"
  }
 },
 "nbformat": 4,
 "nbformat_minor": 2
}
